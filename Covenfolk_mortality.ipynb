{
 "cells": [
  {
   "cell_type": "markdown",
   "id": "63559d91",
   "metadata": {},
   "source": [
    "# Смертность ковенфолка в результате естественных причин\n"
   ]
  },
  {
   "cell_type": "markdown",
   "id": "e2a6f794",
   "metadata": {},
   "source": [
    "Чтобы определить, выжил ли человек в текущий год или скончался в результате естественных причин сначала определяем вероятность смерти в зависимости от возраста. Затем создадаем подключение к базе данных, генерируем запрос, чтобы определить умерших в текущем году и обновляем базу данных данными об умерших."
   ]
  },
  {
   "cell_type": "markdown",
   "id": "41e461ea",
   "metadata": {},
   "source": [
    "## 1. Определяем коэффициент вероятности смерти"
   ]
  },
  {
   "cell_type": "code",
   "execution_count": 1,
   "id": "907e64b4",
   "metadata": {},
   "outputs": [],
   "source": [
    "import pandas as pd\n",
    "import numpy as np\n",
    "import matplotlib.pyplot as plt\n",
    "%matplotlib inline"
   ]
  },
  {
   "cell_type": "markdown",
   "id": "0d54c179",
   "metadata": {},
   "source": [
    "Представим вероятность смерти жителя ковенанта в виде коэффециента, который зависит от возраста жителя.\n",
    "\n",
    "Возьмем данные о значений повозрастной вероятности смерти из csv файла (это, конечно, не реальные данные):"
   ]
  },
  {
   "cell_type": "code",
   "execution_count": 2,
   "id": "df6045b5",
   "metadata": {},
   "outputs": [
    {
     "name": "stdout",
     "output_type": "stream",
     "text": [
      "Data downloaded and read into a dataframe!\n"
     ]
    }
   ],
   "source": [
    "df_prob = pd.read_csv('C:\\\\Users\\\\Ggg\\\\probability.csv')\n",
    "\n",
    "print('Data downloaded and read into a dataframe!')"
   ]
  },
  {
   "cell_type": "markdown",
   "id": "73769955",
   "metadata": {},
   "source": [
    "dataframe состоит из двух столбцов 'Age' и 'Probability'"
   ]
  },
  {
   "cell_type": "code",
   "execution_count": 4,
   "id": "00c16e35",
   "metadata": {},
   "outputs": [
    {
     "data": {
      "text/html": [
       "<div>\n",
       "<style scoped>\n",
       "    .dataframe tbody tr th:only-of-type {\n",
       "        vertical-align: middle;\n",
       "    }\n",
       "\n",
       "    .dataframe tbody tr th {\n",
       "        vertical-align: top;\n",
       "    }\n",
       "\n",
       "    .dataframe thead th {\n",
       "        text-align: right;\n",
       "    }\n",
       "</style>\n",
       "<table border=\"1\" class=\"dataframe\">\n",
       "  <thead>\n",
       "    <tr style=\"text-align: right;\">\n",
       "      <th></th>\n",
       "      <th>Age</th>\n",
       "      <th>Probability</th>\n",
       "    </tr>\n",
       "  </thead>\n",
       "  <tbody>\n",
       "    <tr>\n",
       "      <th>0</th>\n",
       "      <td>0</td>\n",
       "      <td>0.029248</td>\n",
       "    </tr>\n",
       "    <tr>\n",
       "      <th>1</th>\n",
       "      <td>1</td>\n",
       "      <td>0.027919</td>\n",
       "    </tr>\n",
       "    <tr>\n",
       "      <th>2</th>\n",
       "      <td>2</td>\n",
       "      <td>0.027124</td>\n",
       "    </tr>\n",
       "    <tr>\n",
       "      <th>3</th>\n",
       "      <td>3</td>\n",
       "      <td>0.026772</td>\n",
       "    </tr>\n",
       "    <tr>\n",
       "      <th>4</th>\n",
       "      <td>4</td>\n",
       "      <td>0.026779</td>\n",
       "    </tr>\n",
       "  </tbody>\n",
       "</table>\n",
       "</div>"
      ],
      "text/plain": [
       "   Age  Probability\n",
       "0    0     0.029248\n",
       "1    1     0.027919\n",
       "2    2     0.027124\n",
       "3    3     0.026772\n",
       "4    4     0.026779"
      ]
     },
     "execution_count": 4,
     "metadata": {},
     "output_type": "execute_result"
    }
   ],
   "source": [
    "df_prob.head()"
   ]
  },
  {
   "cell_type": "code",
   "execution_count": 5,
   "id": "5e9acb72",
   "metadata": {},
   "outputs": [
    {
     "data": {
      "text/plain": [
       "Text(0, 0.5, 'Вероятность смерти, %')"
      ]
     },
     "execution_count": 5,
     "metadata": {},
     "output_type": "execute_result"
    },
    {
     "data": {
      "image/png": "[encoded data removed]",
      "text/plain": [
       "<Figure size 432x288 with 1 Axes>"
      ]
     },
     "metadata": {
      "needs_background": "light"
     },
     "output_type": "display_data"
    }
   ],
   "source": [
    "plt.scatter(df_prob.Age, df_prob.Probability*100,  color='blue')\n",
    "plt.title('График зависимости вероятности смерти от возраста')\n",
    "plt.xlabel(\"Возраст, годы\")\n",
    "plt.ylabel(\"Вероятность смерти, %\")"
   ]
  },
  {
   "cell_type": "markdown",
   "id": "9dca1bac",
   "metadata": {},
   "source": [
    "Чтобы удобнее было использовать коэффициент, аппроксимируем зависимость, используя полиномиальную регрессию"
   ]
  },
  {
   "cell_type": "code",
   "execution_count": 6,
   "id": "0412fd9e",
   "metadata": {},
   "outputs": [],
   "source": [
    "from sklearn.preprocessing import PolynomialFeatures\n",
    "from sklearn import linear_model"
   ]
  },
  {
   "cell_type": "code",
   "execution_count": 7,
   "id": "85425605",
   "metadata": {},
   "outputs": [],
   "source": [
    "train_x = np.asanyarray(df_prob[['Age']])\n",
    "train_y = np.asanyarray(df_prob[['Probability']])"
   ]
  },
  {
   "cell_type": "markdown",
   "id": "8b15f8eb",
   "metadata": {},
   "source": [
    "Используем полином 4 степени:"
   ]
  },
  {
   "cell_type": "code",
   "execution_count": 8,
   "id": "42878141",
   "metadata": {},
   "outputs": [],
   "source": [
    "poly = PolynomialFeatures(degree=4)\n",
    "train_x_poly = poly.fit_transform(train_x)"
   ]
  },
  {
   "cell_type": "markdown",
   "id": "1b4df651",
   "metadata": {},
   "source": [
    "Теперь мы можем рассматривать это как проблему «линейной регрессии».\n",
    "Таким образом можно использовать функцию LinearRegression() для ее решения:"
   ]
  },
  {
   "cell_type": "code",
   "execution_count": 9,
   "id": "fb4c75df",
   "metadata": {},
   "outputs": [
    {
     "name": "stdout",
     "output_type": "stream",
     "text": [
      "Coefficients:  [[ 0.00000000e+00  1.86712552e-04  1.64007656e-04 -1.24231645e-05\n",
      "   2.09498001e-07]]\n",
      "Intercept:  [0.02480006]\n"
     ]
    }
   ],
   "source": [
    "clf = linear_model.LinearRegression()\n",
    "train_y_ = clf.fit(train_x_poly, train_y)\n",
    "# The coefficients\n",
    "print ('Coefficients: ', clf.coef_)\n",
    "print ('Intercept: ',clf.intercept_)"
   ]
  },
  {
   "cell_type": "markdown",
   "id": "51c4a05d",
   "metadata": {},
   "source": [
    "Построим график вероятности смерти с линией регрессии:"
   ]
  },
  {
   "cell_type": "code",
   "execution_count": 11,
   "id": "10c81275",
   "metadata": {},
   "outputs": [
    {
     "data": {
      "text/plain": [
       "Text(0, 0.5, 'Вероятность смерти, %')"
      ]
     },
     "execution_count": 11,
     "metadata": {},
     "output_type": "execute_result"
    },
    {
     "data": {
      "image/png": "[encoded data removed]",
      "text/plain": [
       "<Figure size 432x288 with 1 Axes>"
      ]
     },
     "metadata": {
      "needs_background": "light"
     },
     "output_type": "display_data"
    }
   ],
   "source": [
    "plt.scatter(df_prob.Age, df_prob.Probability*100,  color='blue')\n",
    "XX = np.arange(0.0, 70, 1)\n",
    "yy = clf.intercept_[0]+ clf.coef_[0][1]*XX+ clf.coef_[0][2]*np.power(XX, 2)+ clf.coef_[0][3]*np.power(XX, 3)+ clf.coef_[0][4]*np.power(XX, 4)\n",
    "plt.plot(XX, yy*100, '-r' )\n",
    "plt.title('График зависимости вероятности смерти от возраста в ковенанте')\n",
    "plt.xlabel(\"Возраст, годы\")\n",
    "plt.ylabel(\"Вероятность смерти, %\")"
   ]
  },
  {
   "cell_type": "markdown",
   "id": "d5738fb6",
   "metadata": {},
   "source": [
    "Конечно, вероятность смерти не может быть больше 100%, но на работу алгоритма никак не влияет факт, что аппроксимированная вероятность смерти при возрасте старше 65 лет > 1."
   ]
  },
  {
   "cell_type": "markdown",
   "id": "21a8e880",
   "metadata": {},
   "source": [
    "Сохраним значения коэффициентов регрессионной кривой в файл coefficient.txt"
   ]
  },
  {
   "cell_type": "code",
   "execution_count": 12,
   "id": "69eb91c4",
   "metadata": {},
   "outputs": [],
   "source": [
    "with open('coefficient.txt', 'w') as writefile:\n",
    "    writefile.write(str(clf.intercept_[0]))\n",
    "    writefile.write('\\n')\n",
    "    flag = 0\n",
    "    for coef in clf.coef_[0]:\n",
    "        if flag:\n",
    "            writefile.write(str(coef))\n",
    "            writefile.write('\\n')\n",
    "        flag = 1"
   ]
  },
  {
   "cell_type": "markdown",
   "id": "acc42114",
   "metadata": {},
   "source": [
    "## 2. Добавление данных о смерти в текущем году\n",
    "\n",
    "#### Подключение к базе данных и добавление в нее данных о смертях за текущий год"
   ]
  },
  {
   "cell_type": "code",
   "execution_count": 13,
   "id": "944e1f6c",
   "metadata": {},
   "outputs": [],
   "source": [
    "import os\n",
    "import pymysql\n",
    "import pymysql.cursors\n",
    "from mysql.connector import Error"
   ]
  },
  {
   "attachments": {
    "image-2.png": {
     "image/png": "[encoded data removed]"
    }
   },
   "cell_type": "markdown",
   "id": "b6fa56bf",
   "metadata": {},
   "source": [
    "Создадим подключение к базе данных mysql \"ars_magica\". Изменения вносим в таблицу covenfolk_1:\n",
    "\n",
    "![image-2.png](attachment:image-2.png)"
   ]
  },
  {
   "cell_type": "code",
   "execution_count": 14,
   "id": "55a8621b",
   "metadata": {},
   "outputs": [
    {
     "name": "stdout",
     "output_type": "stream",
     "text": [
      "connect successful!!\n"
     ]
    }
   ],
   "source": [
    "connection = pymysql.connect(host='localhost',\n",
    "                             user='root',\n",
    "                             password='GfhjkmVfqCREK7250',                             \n",
    "                             db='ars_magica',\n",
    "                             charset='utf8mb4',\n",
    "                             cursorclass=pymysql.cursors.DictCursor) \n",
    "print (\"connect successful!!\")"
   ]
  },
  {
   "cell_type": "code",
   "execution_count": 15,
   "id": "a3373919",
   "metadata": {},
   "outputs": [],
   "source": [
    "def execute_query(connection, query):\n",
    "    mycursor = connection.cursor()\n",
    "    try:\n",
    "        mycursor.execute(query)\n",
    "        myresult = mycursor.fetchall()\n",
    "        connection.commit()\n",
    "        print(\"Query successful\")\n",
    "        print (\"cursor.description: \", mycursor.description) \n",
    "        print() \n",
    "        for row in mycursor:\n",
    "            print(row)\n",
    "        return myresult\n",
    "    except Error as err:\n",
    "        print(f\"Error: '{err}'\")"
   ]
  },
  {
   "cell_type": "markdown",
   "id": "08eb6c5d",
   "metadata": {},
   "source": [
    "Прочитаем значения коэффициентов из файла coefficient.txt."
   ]
  },
  {
   "cell_type": "code",
   "execution_count": 16,
   "id": "d6371ae7",
   "metadata": {},
   "outputs": [],
   "source": [
    "file = open(\"coefficient.txt\", \"r\")\n",
    "f = file.read()\n",
    "coefficient = []\n",
    "lines = f.split(\"\\n\")\n",
    "for i in range(len(lines)-1):\n",
    "    coefficient.append(float(lines[i]))"
   ]
  },
  {
   "cell_type": "markdown",
   "id": "0ae9b4c0",
   "metadata": {},
   "source": [
    "Задаем текущий год:"
   ]
  },
  {
   "cell_type": "code",
   "execution_count": 17,
   "id": "590c293c",
   "metadata": {},
   "outputs": [],
   "source": [
    "year = 1262"
   ]
  },
  {
   "cell_type": "markdown",
   "id": "86fd5da6",
   "metadata": {},
   "source": [
    "Создаем запрос, который определяет, кто из жителей ковенанта умирает в текущем году в зависимости от его возраста и выпадения случайного числа."
   ]
  },
  {
   "cell_type": "code",
   "execution_count": 18,
   "id": "ea97ad21",
   "metadata": {},
   "outputs": [
    {
     "name": "stdout",
     "output_type": "stream",
     "text": [
      "SELECT IF(RAND() <=\n",
      "    (2.094980e-07*POW(1262 - date_of_birth, 4) + \n",
      "    -1.242316e-05*POW(1262 - date_of_birth, 3) + \n",
      "    1.640077e-04*POW(1262 - date_of_birth, 2) \n",
      "    + 1.867126e-04*(1262 - date_of_birth) + 2.480006e-02)\n",
      "    AND date_of_death IS NULL AND date_of_birth < 1262, human_id, NULL) as human_id\n",
      "    FROM covenfolk_1\n",
      "    \n"
     ]
    }
   ],
   "source": [
    "query_select = \"\"\"SELECT IF(RAND() <=\n",
    "    (%e*POW(%d - date_of_birth, 4) + \n",
    "    %e*POW(%d - date_of_birth, 3) + \n",
    "    %e*POW(%d - date_of_birth, 2) \n",
    "    + %e*(%d - date_of_birth) + %e)\n",
    "    AND date_of_death IS NULL AND date_of_birth < %d, human_id, NULL) as human_id\n",
    "    FROM covenfolk_1\n",
    "    \"\"\"%(coefficient[4], year, coefficient[3], year, coefficient[2], year, coefficient[1], year, coefficient[0], year)\n",
    "print(query_select)"
   ]
  },
  {
   "cell_type": "markdown",
   "id": "9ffad96d",
   "metadata": {},
   "source": [
    "Выполняем запрос SELECT:"
   ]
  },
  {
   "cell_type": "code",
   "execution_count": 19,
   "id": "89afbd02",
   "metadata": {},
   "outputs": [
    {
     "name": "stdout",
     "output_type": "stream",
     "text": [
      "Query successful\n",
      "cursor.description:  (('human_id', 3, None, 11, 11, 0, True),)\n",
      "\n"
     ]
    }
   ],
   "source": [
    "results = execute_query(connection, query_select)"
   ]
  },
  {
   "cell_type": "markdown",
   "id": "93922e01",
   "metadata": {},
   "source": [
    "Создаем список из 'human_id' людей, умерших в текущем году:"
   ]
  },
  {
   "cell_type": "code",
   "execution_count": 20,
   "id": "406df83d",
   "metadata": {},
   "outputs": [],
   "source": [
    "dead_this_year = [row['human_id'] for row in results if row['human_id'] is not None]"
   ]
  },
  {
   "cell_type": "code",
   "execution_count": 21,
   "id": "b1b370de",
   "metadata": {},
   "outputs": [
    {
     "name": "stdout",
     "output_type": "stream",
     "text": [
      "[82, 83, 85]\n"
     ]
    }
   ],
   "source": [
    "print(dead_this_year)"
   ]
  },
  {
   "cell_type": "code",
   "execution_count": 22,
   "id": "7635175f",
   "metadata": {},
   "outputs": [
    {
     "name": "stdout",
     "output_type": "stream",
     "text": [
      "UPDATE covenfolk_1 SET date_of_death = 1262, cause_of_death = 'natural cause' WHERE human_id = 82\n",
      "Query successful\n",
      "cursor.description:  None\n",
      "\n",
      "UPDATE covenfolk_1 SET date_of_death = 1262, cause_of_death = 'natural cause' WHERE human_id = 83\n",
      "Query successful\n",
      "cursor.description:  None\n",
      "\n",
      "UPDATE covenfolk_1 SET date_of_death = 1262, cause_of_death = 'natural cause' WHERE human_id = 85\n",
      "Query successful\n",
      "cursor.description:  None\n",
      "\n"
     ]
    }
   ],
   "source": [
    "for i in range(len(dead_this_year)):\n",
    "    sql_update_query = \"\"\"UPDATE covenfolk_1 SET date_of_death = %d, cause_of_death = 'natural cause' WHERE human_id = %d\"\"\"%(year, dead_this_year[i])\n",
    "    print(sql_update_query)\n",
    "    execute_query(connection, sql_update_query)"
   ]
  }
 ],
 "metadata": {
  "kernelspec": {
   "display_name": "Python 3 (ipykernel)",
   "language": "python",
   "name": "python3"
  },
  "language_info": {
   "codemirror_mode": {
    "name": "ipython",
    "version": 3
   },
   "file_extension": ".py",
   "mimetype": "text/x-python",
   "name": "python",
   "nbconvert_exporter": "python",
   "pygments_lexer": "ipython3",
   "version": "3.9.6"
  }
 },
 "nbformat": 4,
 "nbformat_minor": 5
}
